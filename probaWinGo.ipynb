{
  "nbformat": 4,
  "nbformat_minor": 0,
  "metadata": {
    "kernelspec": {
      "display_name": "Python 3",
      "language": "python",
      "name": "python3"
    },
    "language_info": {
      "codemirror_mode": {
        "name": "ipython",
        "version": 3
      },
      "file_extension": ".py",
      "mimetype": "text/x-python",
      "name": "python",
      "nbconvert_exporter": "python",
      "pygments_lexer": "ipython3",
      "version": "3.7.9"
    },
    "colab": {
      "name": "probaWinGo.ipynb",
      "provenance": []
    },
    "accelerator": "GPU"
  },
  "cells": [
    {
      "cell_type": "markdown",
      "metadata": {
        "id": "VmQVN0PrvFik"
      },
      "source": [
        "# Train an heuristic to play Go\n",
        "[![Open In Colab](https://colab.research.google.com/assets/colab-badge.svg)](https://colab.research.google.com/github/Jeremynadal33/GameGo/blob/master/probaWinGo.ipynb)This notebook trains & compare DL models to predict a probability to win a game of GO from a given set of already played moves. \n",
        "\n",
        "The work in this notebook is based on [L. Simon's file](https://nbviewer.jupyter.org/urls/www.labri.fr/perso/lsimon/IA-M1/TP-Note-ML-GO.ipynb)\n",
        "\n",
        "## First, let's import the database\n"
      ]
    },
    {
      "cell_type": "code",
      "metadata": {
        "id": "gd0eF6HkxQHf",
        "outputId": "1ab149f8-a113-4ffe-9c37-57ff5062cdeb",
        "colab": {
          "base_uri": "https://localhost:8080/"
        }
      },
      "source": [
        "import numpy as np\n",
        "from sklearn.model_selection import train_test_split\n",
        "import tensorflow as tf\n",
        "print(tf.__version__)"
      ],
      "execution_count": 1,
      "outputs": [
        {
          "output_type": "stream",
          "text": [
            "2.4.0\n"
          ],
          "name": "stdout"
        }
      ]
    },
    {
      "cell_type": "code",
      "metadata": {
        "id": "ozv20eWBvFiq",
        "outputId": "9f7fd9b6-586a-42ad-f66c-3c01923419e5",
        "colab": {
          "base_uri": "https://localhost:8080/"
        }
      },
      "source": [
        "def get_raw_data_go(file):\n",
        "    ''' Returns the set of samples from the local file or download it if it does not exists'''\n",
        "    import gzip, os.path\n",
        "    import json\n",
        "\n",
        "    if not os.path.isfile(file):\n",
        "        print(\"File\", file, \"not found, I am downloading it...\\n\", end=\"\")\n",
        "        import urllib.request \n",
        "        urllib.request.urlretrieve (\"https://www.labri.fr/perso/lsimon/IA-M1/\" + file, file)\n",
        "        print(\" Done\")\n",
        "\n",
        "    with gzip.open(file) as fz:\n",
        "        data = json.loads(fz.read().decode(\"utf-8\"))\n",
        "    return data\n",
        "\n",
        "file = \"samples-9x9.json.gz\"\n",
        "file_evaluate = \"positions-to-evaluate-9x9.json.gz\"\n",
        "data = get_raw_data_go(file)\n",
        "data_to_evaluate = get_raw_data_go(file_evaluate)\n",
        "\n",
        "print(\"We have\", len(data),\"examples with the scores to train, ...\")\n",
        "print(\"We have\", len(data_to_evaluate),\"examples to score (but for which we don't know the real values)\")"
      ],
      "execution_count": 2,
      "outputs": [
        {
          "output_type": "stream",
          "text": [
            "File samples-9x9.json.gz not found, I am downloading it...\n",
            " Done\n",
            "File positions-to-evaluate-9x9.json.gz not found, I am downloading it...\n",
            " Done\n",
            "We have 41563 examples with the scores to train, ...\n",
            "We have 1000 examples to score (but for which we don't know the real values)\n"
          ],
          "name": "stdout"
        }
      ]
    },
    {
      "cell_type": "markdown",
      "metadata": {
        "id": "N99O8dLXvFir"
      },
      "source": [
        "## Then, let's explore each entry\n",
        "### First on the data set with results"
      ]
    },
    {
      "cell_type": "code",
      "metadata": {
        "id": "HFaNImqJvFis",
        "outputId": "7e28b846-fc57-44d1-ae56-dce3fea86131",
        "colab": {
          "base_uri": "https://localhost:8080/"
        }
      },
      "source": [
        "def summary_of_example(data, sample_nb):\n",
        "    ''' Gives you some insights about a sample number'''\n",
        "    sample = data[sample_nb]\n",
        "    print(\"Sample\", sample_nb,'\\n')\n",
        "    print(\"Données brutes en format JSON:\", sample, '\\n')\n",
        "    print(\"The sample was obtained after\", sample[\"depth\"], \"moves\")\n",
        "    print(\"The successive moves were\", sample[\"list_of_moves\"])\n",
        "    print(\"After these moves and all the captures, there was black stones at the following position\", sample[\"black_stones\"])\n",
        "    print(\"After these moves and all the captures, there was white stones at the following position\", sample[\"white_stones\"])\n",
        "    print(\"Number of rollouts (gnugo games played against itself from this position):\", sample[\"rollouts\"])\n",
        "    print(\"Over these\", sample[\"rollouts\"], \"games, black won\", sample[\"black_wins\"], \"times with\", sample[\"black_points\"], \"total points over all this winning games\")\n",
        "    print(\"Over these\", sample[\"rollouts\"], \"games, white won\", sample[\"white_wins\"], \"times with\", sample[\"white_points\"], \"total points over all this winning games\")\n",
        "\n",
        "    \n",
        "summary_of_example(data,10)"
      ],
      "execution_count": 3,
      "outputs": [
        {
          "output_type": "stream",
          "text": [
            "Sample 10 \n",
            "\n",
            "Données brutes en format JSON: {'depth': 8, 'list_of_moves': ['C6', 'E7', 'C3', 'C8', 'E5', 'G3', 'B7', 'H7'], 'black_stones': ['B7', 'C6', 'E5', 'C3'], 'white_stones': ['C8', 'E7', 'H7', 'G3'], 'rollouts': 100, 'black_wins': 60, 'black_points': 876.0, 'white_wins': 40, 'white_points': 378.0} \n",
            "\n",
            "The sample was obtained after 8 moves\n",
            "The successive moves were ['C6', 'E7', 'C3', 'C8', 'E5', 'G3', 'B7', 'H7']\n",
            "After these moves and all the captures, there was black stones at the following position ['B7', 'C6', 'E5', 'C3']\n",
            "After these moves and all the captures, there was white stones at the following position ['C8', 'E7', 'H7', 'G3']\n",
            "Number of rollouts (gnugo games played against itself from this position): 100\n",
            "Over these 100 games, black won 60 times with 876.0 total points over all this winning games\n",
            "Over these 100 games, white won 40 times with 378.0 total points over all this winning games\n"
          ],
          "name": "stdout"
        }
      ]
    },
    {
      "cell_type": "markdown",
      "metadata": {
        "id": "IN4MgDCmvFit"
      },
      "source": [
        "### On the data to evaluate, there is less information : "
      ]
    },
    {
      "cell_type": "code",
      "metadata": {
        "id": "StrAXim-vFit",
        "outputId": "21af809c-b9a4-4e6c-c4b8-691480535002",
        "colab": {
          "base_uri": "https://localhost:8080/"
        }
      },
      "source": [
        "print(data_to_evaluate[0])"
      ],
      "execution_count": 4,
      "outputs": [
        {
          "output_type": "stream",
          "text": [
            "{'depth': 16, 'list_of_moves': ['E6', 'E3', 'C3', 'G6', 'G7', 'C6', 'H7', 'H4', 'D2', 'F6', 'E8', 'C8', 'E5', 'B9', 'E7', 'E2'], 'black_stones': ['E8', 'E7', 'G7', 'H7', 'E6', 'E5', 'C3', 'D2'], 'white_stones': ['B9', 'C8', 'C6', 'F6', 'G6', 'H4', 'E3'], 'rollouts': 100}\n"
          ],
          "name": "stdout"
        }
      ]
    },
    {
      "cell_type": "markdown",
      "metadata": {
        "id": "dgSGWW5CvFiu"
      },
      "source": [
        "## Let's try to get a deeper understanding of the data"
      ]
    },
    {
      "cell_type": "code",
      "metadata": {
        "id": "-13N7oxmvFiv"
      },
      "source": [
        "import matplotlib.pyplot as plt\n",
        "import pandas as pd\n",
        "import seaborn as sns"
      ],
      "execution_count": 5,
      "outputs": []
    },
    {
      "cell_type": "code",
      "metadata": {
        "id": "3pA8x_shvFiw",
        "outputId": "401ad1b0-087c-4a78-d9e0-d47a9ee9f104",
        "colab": {
          "base_uri": "https://localhost:8080/"
        }
      },
      "source": [
        "df_data = pd.read_json(file)\n",
        "df_data.info()"
      ],
      "execution_count": 6,
      "outputs": [
        {
          "output_type": "stream",
          "text": [
            "<class 'pandas.core.frame.DataFrame'>\n",
            "RangeIndex: 41563 entries, 0 to 41562\n",
            "Data columns (total 9 columns):\n",
            " #   Column         Non-Null Count  Dtype \n",
            "---  ------         --------------  ----- \n",
            " 0   depth          41563 non-null  int64 \n",
            " 1   list_of_moves  41563 non-null  object\n",
            " 2   black_stones   41563 non-null  object\n",
            " 3   white_stones   41563 non-null  object\n",
            " 4   rollouts       41563 non-null  int64 \n",
            " 5   black_wins     41563 non-null  int64 \n",
            " 6   black_points   41563 non-null  int64 \n",
            " 7   white_wins     41563 non-null  int64 \n",
            " 8   white_points   41563 non-null  int64 \n",
            "dtypes: int64(6), object(3)\n",
            "memory usage: 2.9+ MB\n"
          ],
          "name": "stdout"
        }
      ]
    },
    {
      "cell_type": "code",
      "metadata": {
        "id": "-I5Htk0-vFix",
        "outputId": "d5a2e9ff-b32a-4647-c582-ad497d2a655a",
        "colab": {
          "base_uri": "https://localhost:8080/",
          "height": 317
        }
      },
      "source": [
        "df_data.describe()"
      ],
      "execution_count": 7,
      "outputs": [
        {
          "output_type": "execute_result",
          "data": {
            "text/html": [
              "<div>\n",
              "<style scoped>\n",
              "    .dataframe tbody tr th:only-of-type {\n",
              "        vertical-align: middle;\n",
              "    }\n",
              "\n",
              "    .dataframe tbody tr th {\n",
              "        vertical-align: top;\n",
              "    }\n",
              "\n",
              "    .dataframe thead th {\n",
              "        text-align: right;\n",
              "    }\n",
              "</style>\n",
              "<table border=\"1\" class=\"dataframe\">\n",
              "  <thead>\n",
              "    <tr style=\"text-align: right;\">\n",
              "      <th></th>\n",
              "      <th>depth</th>\n",
              "      <th>rollouts</th>\n",
              "      <th>black_wins</th>\n",
              "      <th>black_points</th>\n",
              "      <th>white_wins</th>\n",
              "      <th>white_points</th>\n",
              "    </tr>\n",
              "  </thead>\n",
              "  <tbody>\n",
              "    <tr>\n",
              "      <th>count</th>\n",
              "      <td>41563.000000</td>\n",
              "      <td>41563.0</td>\n",
              "      <td>41563.000000</td>\n",
              "      <td>41563.000000</td>\n",
              "      <td>41563.000000</td>\n",
              "      <td>41563.000000</td>\n",
              "    </tr>\n",
              "    <tr>\n",
              "      <th>mean</th>\n",
              "      <td>29.588047</td>\n",
              "      <td>100.0</td>\n",
              "      <td>64.926786</td>\n",
              "      <td>821.911147</td>\n",
              "      <td>35.063662</td>\n",
              "      <td>349.180497</td>\n",
              "    </tr>\n",
              "    <tr>\n",
              "      <th>std</th>\n",
              "      <td>15.448159</td>\n",
              "      <td>0.0</td>\n",
              "      <td>33.761025</td>\n",
              "      <td>734.782237</td>\n",
              "      <td>33.758351</td>\n",
              "      <td>507.659072</td>\n",
              "    </tr>\n",
              "    <tr>\n",
              "      <th>min</th>\n",
              "      <td>5.000000</td>\n",
              "      <td>100.0</td>\n",
              "      <td>0.000000</td>\n",
              "      <td>0.000000</td>\n",
              "      <td>0.000000</td>\n",
              "      <td>0.000000</td>\n",
              "    </tr>\n",
              "    <tr>\n",
              "      <th>25%</th>\n",
              "      <td>17.000000</td>\n",
              "      <td>100.0</td>\n",
              "      <td>47.000000</td>\n",
              "      <td>300.000000</td>\n",
              "      <td>1.000000</td>\n",
              "      <td>4.000000</td>\n",
              "    </tr>\n",
              "    <tr>\n",
              "      <th>50%</th>\n",
              "      <td>29.000000</td>\n",
              "      <td>100.0</td>\n",
              "      <td>71.000000</td>\n",
              "      <td>708.000000</td>\n",
              "      <td>29.000000</td>\n",
              "      <td>221.000000</td>\n",
              "    </tr>\n",
              "    <tr>\n",
              "      <th>75%</th>\n",
              "      <td>41.000000</td>\n",
              "      <td>100.0</td>\n",
              "      <td>99.000000</td>\n",
              "      <td>1103.000000</td>\n",
              "      <td>53.000000</td>\n",
              "      <td>471.500000</td>\n",
              "    </tr>\n",
              "    <tr>\n",
              "      <th>max</th>\n",
              "      <td>84.000000</td>\n",
              "      <td>100.0</td>\n",
              "      <td>100.000000</td>\n",
              "      <td>8100.000000</td>\n",
              "      <td>100.000000</td>\n",
              "      <td>8100.000000</td>\n",
              "    </tr>\n",
              "  </tbody>\n",
              "</table>\n",
              "</div>"
            ],
            "text/plain": [
              "              depth  rollouts  ...    white_wins  white_points\n",
              "count  41563.000000   41563.0  ...  41563.000000  41563.000000\n",
              "mean      29.588047     100.0  ...     35.063662    349.180497\n",
              "std       15.448159       0.0  ...     33.758351    507.659072\n",
              "min        5.000000     100.0  ...      0.000000      0.000000\n",
              "25%       17.000000     100.0  ...      1.000000      4.000000\n",
              "50%       29.000000     100.0  ...     29.000000    221.000000\n",
              "75%       41.000000     100.0  ...     53.000000    471.500000\n",
              "max       84.000000     100.0  ...    100.000000   8100.000000\n",
              "\n",
              "[8 rows x 6 columns]"
            ]
          },
          "metadata": {
            "tags": []
          },
          "execution_count": 7
        }
      ]
    },
    {
      "cell_type": "code",
      "metadata": {
        "id": "A_O9MZGsvFiy",
        "outputId": "6f7d578a-a895-448c-a235-eb71feb01c79",
        "colab": {
          "base_uri": "https://localhost:8080/",
          "height": 241
        }
      },
      "source": [
        "def corr_threshold(df,thresh, root_dir=''):\n",
        "    import seaborn as sns\n",
        "    upper = df.corr().where(np.triu(np.ones(df.corr().shape), k=1).astype(np.bool)).abs()\n",
        "    upper = upper[upper>=thresh]\n",
        "    \n",
        "    plt.figure(figsize=(10,5))\n",
        "    hm = sns.heatmap(upper, cmap=\"coolwarm\")\n",
        "    hm.set_xticklabels(hm.get_xticklabels(), rotation=90,fontsize=10)\n",
        "    hm.set_yticklabels(hm.get_yticklabels(), rotation=0,fontsize=10) \n",
        "\n",
        "    plt.savefig(root_dir+'corr_heat.png',transparent=True)\n",
        "    plt.show()\n",
        "    \n",
        "    upper = upper.stack().sort_values(ascending=False)\n",
        "    upper = pd.DataFrame(upper).reset_index()\n",
        "    upper.columns = ['Var 1', 'Var 2', 'correlation']\n",
        "    \n",
        "    index =  np.max([ i for i in range(len(upper['correlation'])) if upper['correlation'][i]>=thresh])\n",
        "    return upper[:index+1]\n",
        "\n",
        "corr_threshold(df_data, 0.5)"
      ],
      "execution_count": 8,
      "outputs": [
        {
          "output_type": "display_data",
          "data": {
            "image/png": "[encoded data removed]",
            "text/plain": [
              "<Figure size 720x360 with 2 Axes>"
            ]
          },
          "metadata": {
            "tags": [],
            "needs_background": "light"
          }
        },
        {
          "output_type": "execute_result",
          "data": {
            "text/html": [
              "<div>\n",
              "<style scoped>\n",
              "    .dataframe tbody tr th:only-of-type {\n",
              "        vertical-align: middle;\n",
              "    }\n",
              "\n",
              "    .dataframe tbody tr th {\n",
              "        vertical-align: top;\n",
              "    }\n",
              "\n",
              "    .dataframe thead th {\n",
              "        text-align: right;\n",
              "    }\n",
              "</style>\n",
              "<table border=\"1\" class=\"dataframe\">\n",
              "  <thead>\n",
              "    <tr style=\"text-align: right;\">\n",
              "      <th></th>\n",
              "      <th>Var 1</th>\n",
              "      <th>Var 2</th>\n",
              "      <th>correlation</th>\n",
              "    </tr>\n",
              "  </thead>\n",
              "  <tbody>\n",
              "    <tr>\n",
              "      <th>0</th>\n",
              "      <td>black_wins</td>\n",
              "      <td>white_wins</td>\n",
              "      <td>0.999884</td>\n",
              "    </tr>\n",
              "    <tr>\n",
              "      <th>1</th>\n",
              "      <td>white_wins</td>\n",
              "      <td>white_points</td>\n",
              "      <td>0.679726</td>\n",
              "    </tr>\n",
              "    <tr>\n",
              "      <th>2</th>\n",
              "      <td>black_wins</td>\n",
              "      <td>white_points</td>\n",
              "      <td>0.679642</td>\n",
              "    </tr>\n",
              "    <tr>\n",
              "      <th>3</th>\n",
              "      <td>black_wins</td>\n",
              "      <td>black_points</td>\n",
              "      <td>0.635787</td>\n",
              "    </tr>\n",
              "    <tr>\n",
              "      <th>4</th>\n",
              "      <td>black_points</td>\n",
              "      <td>white_wins</td>\n",
              "      <td>0.635714</td>\n",
              "    </tr>\n",
              "  </tbody>\n",
              "</table>\n",
              "</div>"
            ],
            "text/plain": [
              "          Var 1         Var 2  correlation\n",
              "0    black_wins    white_wins     0.999884\n",
              "1    white_wins  white_points     0.679726\n",
              "2    black_wins  white_points     0.679642\n",
              "3    black_wins  black_points     0.635787\n",
              "4  black_points    white_wins     0.635714"
            ]
          },
          "metadata": {
            "tags": []
          },
          "execution_count": 8
        }
      ]
    },
    {
      "cell_type": "code",
      "metadata": {
        "id": "Q8pz1kn6vFiz",
        "outputId": "e2618ffe-8d29-4681-908c-01d4bba0e716",
        "colab": {
          "base_uri": "https://localhost:8080/",
          "height": 71
        }
      },
      "source": [
        "# Cumulative Distribution function of the chance of black to win\n",
        "cdf_wins = sorted([sample[\"black_wins\"] for sample in data])\n",
        "plt.figure()\n",
        "plt.plot([x/len(cdf_wins) for x in range(len(cdf_wins))], cdf_wins)\n",
        "plt.title(\"Cumulative Distribution function of the chance of black to win\")\n",
        "plt.xlabel(\"\\% of the samples with a chance of black to win below y\")\n",
        "plt.ylabel(\"Chance of black to win\")\n",
        "print(\"The CDF curve shows that black has more chances to win, globally\")\n",
        "\n",
        "plt.show()"
      ],
      "execution_count": 9,
      "outputs": [
        {
          "output_type": "stream",
          "text": [
            "The CDF curve shows that black has more chances to win, globally\n"
          ],
          "name": "stdout"
        },
        {
          "output_type": "display_data",
          "data": {
            "image/png": "[encoded data removed]",
            "text/plain": [
              "<Figure size 432x288 with 1 Axes>"
            ]
          },
          "metadata": {
            "tags": [],
            "needs_background": "light"
          }
        }
      ]
    },
    {
      "cell_type": "code",
      "metadata": {
        "id": "7kLW6tgsvFi0"
      },
      "source": [
        "df_data['range_game'] = 'Beginning'\n",
        "\n",
        "df_data.loc[df_data['depth']>17,'range_game'] = 'Middle'\n",
        "df_data.loc[df_data['depth']>41,'range_game'] = 'End'"
      ],
      "execution_count": 10,
      "outputs": []
    },
    {
      "cell_type": "code",
      "metadata": {
        "id": "XwHd7JV4vFi1",
        "outputId": "1b556db6-3482-4b7e-e2ce-8763632fdebe",
        "colab": {
          "base_uri": "https://localhost:8080/",
          "height": 71
        }
      },
      "source": [
        "sns.scatterplot(x='black_wins', y='black_points', \n",
        "                hue='range_game', data=df_data ) "
      ],
      "execution_count": 11,
      "outputs": [
        {
          "output_type": "execute_result",
          "data": {
            "text/plain": [
              "<matplotlib.axes._subplots.AxesSubplot at 0x7fb4f814b358>"
            ]
          },
          "metadata": {
            "tags": []
          },
          "execution_count": 11
        },
        {
          "output_type": "display_data",
          "data": {
            "image/png": "[encoded data removed]",
            "text/plain": [
              "<Figure size 432x288 with 1 Axes>"
            ]
          },
          "metadata": {
            "tags": [],
            "needs_background": "light"
          }
        }
      ]
    },
    {
      "cell_type": "code",
      "metadata": {
        "id": "4hBk-kHCvFi2",
        "outputId": "4c00d27e-fbf2-496f-bd1e-11f1d7f9dabf",
        "colab": {
          "base_uri": "https://localhost:8080/",
          "height": 1000
        }
      },
      "source": [
        "df_data.groupby(\"range_game\").describe().transpose()"
      ],
      "execution_count": 12,
      "outputs": [
        {
          "output_type": "execute_result",
          "data": {
            "text/html": [
              "<div>\n",
              "<style scoped>\n",
              "    .dataframe tbody tr th:only-of-type {\n",
              "        vertical-align: middle;\n",
              "    }\n",
              "\n",
              "    .dataframe tbody tr th {\n",
              "        vertical-align: top;\n",
              "    }\n",
              "\n",
              "    .dataframe thead th {\n",
              "        text-align: right;\n",
              "    }\n",
              "</style>\n",
              "<table border=\"1\" class=\"dataframe\">\n",
              "  <thead>\n",
              "    <tr style=\"text-align: right;\">\n",
              "      <th></th>\n",
              "      <th>range_game</th>\n",
              "      <th>Beginning</th>\n",
              "      <th>End</th>\n",
              "      <th>Middle</th>\n",
              "    </tr>\n",
              "  </thead>\n",
              "  <tbody>\n",
              "    <tr>\n",
              "      <th rowspan=\"8\" valign=\"top\">depth</th>\n",
              "      <th>count</th>\n",
              "      <td>11099.000000</td>\n",
              "      <td>10030.000000</td>\n",
              "      <td>20434.000000</td>\n",
              "    </tr>\n",
              "    <tr>\n",
              "      <th>mean</th>\n",
              "      <td>11.002613</td>\n",
              "      <td>50.629312</td>\n",
              "      <td>29.354899</td>\n",
              "    </tr>\n",
              "    <tr>\n",
              "      <th>std</th>\n",
              "      <td>3.735088</td>\n",
              "      <td>7.169986</td>\n",
              "      <td>6.899394</td>\n",
              "    </tr>\n",
              "    <tr>\n",
              "      <th>min</th>\n",
              "      <td>5.000000</td>\n",
              "      <td>42.000000</td>\n",
              "      <td>18.000000</td>\n",
              "    </tr>\n",
              "    <tr>\n",
              "      <th>25%</th>\n",
              "      <td>8.000000</td>\n",
              "      <td>45.000000</td>\n",
              "      <td>23.000000</td>\n",
              "    </tr>\n",
              "    <tr>\n",
              "      <th>50%</th>\n",
              "      <td>11.000000</td>\n",
              "      <td>49.000000</td>\n",
              "      <td>29.000000</td>\n",
              "    </tr>\n",
              "    <tr>\n",
              "      <th>75%</th>\n",
              "      <td>14.000000</td>\n",
              "      <td>55.000000</td>\n",
              "      <td>35.000000</td>\n",
              "    </tr>\n",
              "    <tr>\n",
              "      <th>max</th>\n",
              "      <td>17.000000</td>\n",
              "      <td>84.000000</td>\n",
              "      <td>41.000000</td>\n",
              "    </tr>\n",
              "    <tr>\n",
              "      <th rowspan=\"8\" valign=\"top\">rollouts</th>\n",
              "      <th>count</th>\n",
              "      <td>11099.000000</td>\n",
              "      <td>10030.000000</td>\n",
              "      <td>20434.000000</td>\n",
              "    </tr>\n",
              "    <tr>\n",
              "      <th>mean</th>\n",
              "      <td>100.000000</td>\n",
              "      <td>100.000000</td>\n",
              "      <td>100.000000</td>\n",
              "    </tr>\n",
              "    <tr>\n",
              "      <th>std</th>\n",
              "      <td>0.000000</td>\n",
              "      <td>0.000000</td>\n",
              "      <td>0.000000</td>\n",
              "    </tr>\n",
              "    <tr>\n",
              "      <th>min</th>\n",
              "      <td>100.000000</td>\n",
              "      <td>100.000000</td>\n",
              "      <td>100.000000</td>\n",
              "    </tr>\n",
              "    <tr>\n",
              "      <th>25%</th>\n",
              "      <td>100.000000</td>\n",
              "      <td>100.000000</td>\n",
              "      <td>100.000000</td>\n",
              "    </tr>\n",
              "    <tr>\n",
              "      <th>50%</th>\n",
              "      <td>100.000000</td>\n",
              "      <td>100.000000</td>\n",
              "      <td>100.000000</td>\n",
              "    </tr>\n",
              "    <tr>\n",
              "      <th>75%</th>\n",
              "      <td>100.000000</td>\n",
              "      <td>100.000000</td>\n",
              "      <td>100.000000</td>\n",
              "    </tr>\n",
              "    <tr>\n",
              "      <th>max</th>\n",
              "      <td>100.000000</td>\n",
              "      <td>100.000000</td>\n",
              "      <td>100.000000</td>\n",
              "    </tr>\n",
              "    <tr>\n",
              "      <th rowspan=\"8\" valign=\"top\">black_wins</th>\n",
              "      <th>count</th>\n",
              "      <td>11099.000000</td>\n",
              "      <td>10030.000000</td>\n",
              "      <td>20434.000000</td>\n",
              "    </tr>\n",
              "    <tr>\n",
              "      <th>mean</th>\n",
              "      <td>63.841337</td>\n",
              "      <td>63.621037</td>\n",
              "      <td>66.157287</td>\n",
              "    </tr>\n",
              "    <tr>\n",
              "      <th>std</th>\n",
              "      <td>14.649376</td>\n",
              "      <td>46.307928</td>\n",
              "      <td>33.857831</td>\n",
              "    </tr>\n",
              "    <tr>\n",
              "      <th>min</th>\n",
              "      <td>1.000000</td>\n",
              "      <td>0.000000</td>\n",
              "      <td>0.000000</td>\n",
              "    </tr>\n",
              "    <tr>\n",
              "      <th>25%</th>\n",
              "      <td>55.000000</td>\n",
              "      <td>0.000000</td>\n",
              "      <td>43.000000</td>\n",
              "    </tr>\n",
              "    <tr>\n",
              "      <th>50%</th>\n",
              "      <td>64.000000</td>\n",
              "      <td>100.000000</td>\n",
              "      <td>77.000000</td>\n",
              "    </tr>\n",
              "    <tr>\n",
              "      <th>75%</th>\n",
              "      <td>74.000000</td>\n",
              "      <td>100.000000</td>\n",
              "      <td>98.000000</td>\n",
              "    </tr>\n",
              "    <tr>\n",
              "      <th>max</th>\n",
              "      <td>100.000000</td>\n",
              "      <td>100.000000</td>\n",
              "      <td>100.000000</td>\n",
              "    </tr>\n",
              "    <tr>\n",
              "      <th rowspan=\"8\" valign=\"top\">black_points</th>\n",
              "      <th>count</th>\n",
              "      <td>11099.000000</td>\n",
              "      <td>10030.000000</td>\n",
              "      <td>20434.000000</td>\n",
              "    </tr>\n",
              "    <tr>\n",
              "      <th>mean</th>\n",
              "      <td>840.501036</td>\n",
              "      <td>855.098903</td>\n",
              "      <td>795.523637</td>\n",
              "    </tr>\n",
              "    <tr>\n",
              "      <th>std</th>\n",
              "      <td>323.330599</td>\n",
              "      <td>1084.402552</td>\n",
              "      <td>680.309157</td>\n",
              "    </tr>\n",
              "    <tr>\n",
              "      <th>min</th>\n",
              "      <td>1.000000</td>\n",
              "      <td>0.000000</td>\n",
              "      <td>0.000000</td>\n",
              "    </tr>\n",
              "    <tr>\n",
              "      <th>25%</th>\n",
              "      <td>626.000000</td>\n",
              "      <td>0.000000</td>\n",
              "      <td>273.000000</td>\n",
              "    </tr>\n",
              "    <tr>\n",
              "      <th>50%</th>\n",
              "      <td>817.000000</td>\n",
              "      <td>500.000000</td>\n",
              "      <td>676.000000</td>\n",
              "    </tr>\n",
              "    <tr>\n",
              "      <th>75%</th>\n",
              "      <td>1030.000000</td>\n",
              "      <td>1300.000000</td>\n",
              "      <td>1142.000000</td>\n",
              "    </tr>\n",
              "    <tr>\n",
              "      <th>max</th>\n",
              "      <td>2723.000000</td>\n",
              "      <td>8100.000000</td>\n",
              "      <td>8100.000000</td>\n",
              "    </tr>\n",
              "    <tr>\n",
              "      <th rowspan=\"8\" valign=\"top\">white_wins</th>\n",
              "      <th>count</th>\n",
              "      <td>11099.000000</td>\n",
              "      <td>10030.000000</td>\n",
              "      <td>20434.000000</td>\n",
              "    </tr>\n",
              "    <tr>\n",
              "      <th>mean</th>\n",
              "      <td>36.151185</td>\n",
              "      <td>36.361715</td>\n",
              "      <td>33.835813</td>\n",
              "    </tr>\n",
              "    <tr>\n",
              "      <th>std</th>\n",
              "      <td>14.648615</td>\n",
              "      <td>46.302647</td>\n",
              "      <td>33.856336</td>\n",
              "    </tr>\n",
              "    <tr>\n",
              "      <th>min</th>\n",
              "      <td>0.000000</td>\n",
              "      <td>0.000000</td>\n",
              "      <td>0.000000</td>\n",
              "    </tr>\n",
              "    <tr>\n",
              "      <th>25%</th>\n",
              "      <td>26.000000</td>\n",
              "      <td>0.000000</td>\n",
              "      <td>2.000000</td>\n",
              "    </tr>\n",
              "    <tr>\n",
              "      <th>50%</th>\n",
              "      <td>36.000000</td>\n",
              "      <td>0.000000</td>\n",
              "      <td>23.000000</td>\n",
              "    </tr>\n",
              "    <tr>\n",
              "      <th>75%</th>\n",
              "      <td>45.000000</td>\n",
              "      <td>100.000000</td>\n",
              "      <td>57.000000</td>\n",
              "    </tr>\n",
              "    <tr>\n",
              "      <th>max</th>\n",
              "      <td>99.000000</td>\n",
              "      <td>100.000000</td>\n",
              "      <td>100.000000</td>\n",
              "    </tr>\n",
              "    <tr>\n",
              "      <th rowspan=\"8\" valign=\"top\">white_points</th>\n",
              "      <th>count</th>\n",
              "      <td>11099.000000</td>\n",
              "      <td>10030.000000</td>\n",
              "      <td>20434.000000</td>\n",
              "    </tr>\n",
              "    <tr>\n",
              "      <th>mean</th>\n",
              "      <td>372.590954</td>\n",
              "      <td>397.265803</td>\n",
              "      <td>312.862190</td>\n",
              "    </tr>\n",
              "    <tr>\n",
              "      <th>std</th>\n",
              "      <td>195.616736</td>\n",
              "      <td>802.707431</td>\n",
              "      <td>429.443238</td>\n",
              "    </tr>\n",
              "    <tr>\n",
              "      <th>min</th>\n",
              "      <td>0.000000</td>\n",
              "      <td>0.000000</td>\n",
              "      <td>0.000000</td>\n",
              "    </tr>\n",
              "    <tr>\n",
              "      <th>25%</th>\n",
              "      <td>234.000000</td>\n",
              "      <td>0.000000</td>\n",
              "      <td>11.000000</td>\n",
              "    </tr>\n",
              "    <tr>\n",
              "      <th>50%</th>\n",
              "      <td>351.000000</td>\n",
              "      <td>0.000000</td>\n",
              "      <td>158.000000</td>\n",
              "    </tr>\n",
              "    <tr>\n",
              "      <th>75%</th>\n",
              "      <td>480.000000</td>\n",
              "      <td>500.000000</td>\n",
              "      <td>446.000000</td>\n",
              "    </tr>\n",
              "    <tr>\n",
              "      <th>max</th>\n",
              "      <td>2055.000000</td>\n",
              "      <td>8100.000000</td>\n",
              "      <td>8100.000000</td>\n",
              "    </tr>\n",
              "  </tbody>\n",
              "</table>\n",
              "</div>"
            ],
            "text/plain": [
              "range_game             Beginning           End        Middle\n",
              "depth        count  11099.000000  10030.000000  20434.000000\n",
              "             mean      11.002613     50.629312     29.354899\n",
              "             std        3.735088      7.169986      6.899394\n",
              "             min        5.000000     42.000000     18.000000\n",
              "             25%        8.000000     45.000000     23.000000\n",
              "             50%       11.000000     49.000000     29.000000\n",
              "             75%       14.000000     55.000000     35.000000\n",
              "             max       17.000000     84.000000     41.000000\n",
              "rollouts     count  11099.000000  10030.000000  20434.000000\n",
              "             mean     100.000000    100.000000    100.000000\n",
              "             std        0.000000      0.000000      0.000000\n",
              "             min      100.000000    100.000000    100.000000\n",
              "             25%      100.000000    100.000000    100.000000\n",
              "             50%      100.000000    100.000000    100.000000\n",
              "             75%      100.000000    100.000000    100.000000\n",
              "             max      100.000000    100.000000    100.000000\n",
              "black_wins   count  11099.000000  10030.000000  20434.000000\n",
              "             mean      63.841337     63.621037     66.157287\n",
              "             std       14.649376     46.307928     33.857831\n",
              "             min        1.000000      0.000000      0.000000\n",
              "             25%       55.000000      0.000000     43.000000\n",
              "             50%       64.000000    100.000000     77.000000\n",
              "             75%       74.000000    100.000000     98.000000\n",
              "             max      100.000000    100.000000    100.000000\n",
              "black_points count  11099.000000  10030.000000  20434.000000\n",
              "             mean     840.501036    855.098903    795.523637\n",
              "             std      323.330599   1084.402552    680.309157\n",
              "             min        1.000000      0.000000      0.000000\n",
              "             25%      626.000000      0.000000    273.000000\n",
              "             50%      817.000000    500.000000    676.000000\n",
              "             75%     1030.000000   1300.000000   1142.000000\n",
              "             max     2723.000000   8100.000000   8100.000000\n",
              "white_wins   count  11099.000000  10030.000000  20434.000000\n",
              "             mean      36.151185     36.361715     33.835813\n",
              "             std       14.648615     46.302647     33.856336\n",
              "             min        0.000000      0.000000      0.000000\n",
              "             25%       26.000000      0.000000      2.000000\n",
              "             50%       36.000000      0.000000     23.000000\n",
              "             75%       45.000000    100.000000     57.000000\n",
              "             max       99.000000    100.000000    100.000000\n",
              "white_points count  11099.000000  10030.000000  20434.000000\n",
              "             mean     372.590954    397.265803    312.862190\n",
              "             std      195.616736    802.707431    429.443238\n",
              "             min        0.000000      0.000000      0.000000\n",
              "             25%      234.000000      0.000000     11.000000\n",
              "             50%      351.000000      0.000000    158.000000\n",
              "             75%      480.000000    500.000000    446.000000\n",
              "             max     2055.000000   8100.000000   8100.000000"
            ]
          },
          "metadata": {
            "tags": []
          },
          "execution_count": 12
        }
      ]
    },
    {
      "cell_type": "markdown",
      "metadata": {
        "id": "ANjMxs8-vFi3"
      },
      "source": [
        "## Information from the dataset of train :\n",
        "* There is 41563 games \n",
        "* There is almost 65 % of games won by the player black -> hidden bias ? \n",
        "* A given board is awarded a certain number of points as well as the winning porbability\n",
        "* The score of the board and the probability of winning are highly correlated\n",
        "* The depth of the game seems important to predict the probability of winning"
      ]
    },
    {
      "cell_type": "markdown",
      "metadata": {
        "id": "fmsi3i7qvFi4"
      },
      "source": [
        "## Let's transform the input data into numpy arrays to feed the NN"
      ]
    },
    {
      "cell_type": "code",
      "metadata": {
        "id": "qnTYygcIvFi5"
      },
      "source": [
        "import numpy as np\n",
        "\n",
        "def name_to_coord(s):\n",
        "    assert s != \"PASS\"\n",
        "    indexLetters = {'A':0, 'B':1, 'C':2, 'D':3, 'E':4, 'F':5, 'G':6, 'H':7, 'J':8}\n",
        "\n",
        "    col = indexLetters[s[0]]\n",
        "    lin = int(s[1:]) - 1\n",
        "    return col, lin\n",
        "\n",
        " # Vous pouvez utiliser votre propre fonction ici si vous voulez utiliser un autre encodage\n",
        "def json_to_numpy(sample):\n",
        "    to_return = np.zeros((9,9,2))\n",
        "    indices = [\"black_stones\", \"white_stones\"]\n",
        "    for plane, name in enumerate(indices):\n",
        "        for coord_name in sample[name]:\n",
        "            x, y = name_to_coord(coord_name)\n",
        "            to_return[x,y,plane] = 1\n",
        "    return to_return\n"
      ],
      "execution_count": 13,
      "outputs": []
    },
    {
      "cell_type": "code",
      "metadata": {
        "id": "N_JavehcvFi7",
        "outputId": "8ceb0ad9-13bd-4b50-87df-bf2283dbbb09",
        "colab": {
          "base_uri": "https://localhost:8080/"
        }
      },
      "source": [
        "samp = 10\n",
        "print('For sample ', samp)\n",
        "print(data[samp])\n",
        "encoded = json_to_numpy(data[samp])\n",
        "\n",
        "print(\"_________________________\\nEncoded shape is\")\n",
        "print(encoded.shape)\n",
        "print(\"The first dimension contains the positioning of the black pieces\")\n",
        "print(encoded[:,:,0])\n",
        "print(\"Black pieces with positions: \", data[10][\"black_stones\"],'\\n')\n",
        "print(\"The second dimension contains the positioning of the white pieces\")\n",
        "print(encoded[:,:,1])\n",
        "print(\"White pieces with positions \", data[10][\"white_stones\"])"
      ],
      "execution_count": 14,
      "outputs": [
        {
          "output_type": "stream",
          "text": [
            "For sample  10\n",
            "{'depth': 8, 'list_of_moves': ['C6', 'E7', 'C3', 'C8', 'E5', 'G3', 'B7', 'H7'], 'black_stones': ['B7', 'C6', 'E5', 'C3'], 'white_stones': ['C8', 'E7', 'H7', 'G3'], 'rollouts': 100, 'black_wins': 60, 'black_points': 876.0, 'white_wins': 40, 'white_points': 378.0}\n",
            "_________________________\n",
            "Encoded shape is\n",
            "(9, 9, 2)\n",
            "The first dimension contains the positioning of the black pieces\n",
            "[[0. 0. 0. 0. 0. 0. 0. 0. 0.]\n",
            " [0. 0. 0. 0. 0. 0. 1. 0. 0.]\n",
            " [0. 0. 1. 0. 0. 1. 0. 0. 0.]\n",
            " [0. 0. 0. 0. 0. 0. 0. 0. 0.]\n",
            " [0. 0. 0. 0. 1. 0. 0. 0. 0.]\n",
            " [0. 0. 0. 0. 0. 0. 0. 0. 0.]\n",
            " [0. 0. 0. 0. 0. 0. 0. 0. 0.]\n",
            " [0. 0. 0. 0. 0. 0. 0. 0. 0.]\n",
            " [0. 0. 0. 0. 0. 0. 0. 0. 0.]]\n",
            "Black pieces with positions:  ['B7', 'C6', 'E5', 'C3'] \n",
            "\n",
            "The second dimension contains the positioning of the white pieces\n",
            "[[0. 0. 0. 0. 0. 0. 0. 0. 0.]\n",
            " [0. 0. 0. 0. 0. 0. 0. 0. 0.]\n",
            " [0. 0. 0. 0. 0. 0. 0. 1. 0.]\n",
            " [0. 0. 0. 0. 0. 0. 0. 0. 0.]\n",
            " [0. 0. 0. 0. 0. 0. 1. 0. 0.]\n",
            " [0. 0. 0. 0. 0. 0. 0. 0. 0.]\n",
            " [0. 0. 1. 0. 0. 0. 0. 0. 0.]\n",
            " [0. 0. 0. 0. 0. 0. 1. 0. 0.]\n",
            " [0. 0. 0. 0. 0. 0. 0. 0. 0.]]\n",
            "White pieces with positions  ['C8', 'E7', 'H7', 'G3']\n"
          ],
          "name": "stdout"
        }
      ]
    },
    {
      "cell_type": "markdown",
      "metadata": {
        "id": "fpTXLoOSvFi8"
      },
      "source": [
        "## We will train a model that predicts the probability of winning \n",
        "To make things easier, we will build a pipeline that processes the json entry, modify it into a numpy array and predicts ***the probability of chance for the black player to win***. \n",
        "\n",
        "To begin with, let's implement a convolutional based NN that process ***only the two sets of boards*** as a whole information."
      ]
    },
    {
      "cell_type": "code",
      "metadata": {
        "id": "R1_5drlSvFi8"
      },
      "source": [
        "def get_dataset(data, random_state = 42, test_size = 0.33) : \n",
        "  X = []\n",
        "  y = []\n",
        "  for d in data:\n",
        "    X.append(json_to_numpy(d))\n",
        "    y.append(d[\"black_wins\"] / d[\"rollouts\"])\n",
        "\n",
        "  X = np.array(X)\n",
        "  y = np.array(y)\n",
        "  X_train, X_test, y_train, y_test = train_test_split(X, y, test_size= test_size, random_state= random_state)\n",
        "  print('Each entry is of shape : {}\\nThere is {} samples in the train set and {} in the test'.format( X_train[0].shape, X_train.shape[0], X_test.shape[0] ))\n",
        "  print('Here is a sample : \\nX[0] :',X_train[0][0] , '\\nX[1] :', X_train[0][1] , '\\n y :',y_train[0])\n",
        "  return X_train, X_test, y_train, y_test"
      ],
      "execution_count": 15,
      "outputs": []
    },
    {
      "cell_type": "code",
      "metadata": {
        "id": "RNYtYpbhvd4i",
        "outputId": "8540205c-7309-4c7c-f971-43038fd773b4",
        "colab": {
          "base_uri": "https://localhost:8080/"
        }
      },
      "source": [
        "X_train, X_test, y_train, y_test = get_dataset(data)"
      ],
      "execution_count": 16,
      "outputs": [
        {
          "output_type": "stream",
          "text": [
            "Each entry is of shape : (9, 9, 2)\n",
            "There is 27847 samples in the train set and 13716 in the test\n",
            "Here is a sample : \n",
            "X[0] : [[0. 0.]\n",
            " [0. 0.]\n",
            " [0. 0.]\n",
            " [0. 0.]\n",
            " [0. 0.]\n",
            " [0. 0.]\n",
            " [0. 0.]\n",
            " [0. 0.]\n",
            " [0. 0.]] \n",
            "X[1] : [[0. 0.]\n",
            " [0. 0.]\n",
            " [0. 0.]\n",
            " [0. 0.]\n",
            " [0. 0.]\n",
            " [0. 0.]\n",
            " [0. 1.]\n",
            " [0. 0.]\n",
            " [0. 0.]] \n",
            " y : 0.64\n"
          ],
          "name": "stdout"
        }
      ]
    },
    {
      "cell_type": "code",
      "metadata": {
        "id": "zweg1px0yje8",
        "outputId": "9312368e-a421-4bfe-efc8-eb2ad5b2aaf4",
        "colab": {
          "base_uri": "https://localhost:8080/"
        }
      },
      "source": [
        "model = tf.keras.models.Sequential()\n",
        "model.add(tf.keras.layers.InputLayer(input_shape=(9,9,2)))\n",
        "model.add(tf.keras.layers.Conv2D(filters=16,kernel_size=3,padding='same'))\n",
        "model.add(tf.keras.layers.Conv2D(filters=16,kernel_size=3,padding='same'))\n",
        "\n",
        "model.add(tf.keras.layers.Flatten())\n",
        "model.add(tf.keras.layers.Dense(1,activation='sigmoid'))\n",
        "\n",
        "model.summary()"
      ],
      "execution_count": 17,
      "outputs": [
        {
          "output_type": "stream",
          "text": [
            "Model: \"sequential\"\n",
            "_________________________________________________________________\n",
            "Layer (type)                 Output Shape              Param #   \n",
            "=================================================================\n",
            "conv2d (Conv2D)              (None, 9, 9, 16)          304       \n",
            "_________________________________________________________________\n",
            "conv2d_1 (Conv2D)            (None, 9, 9, 16)          2320      \n",
            "_________________________________________________________________\n",
            "flatten (Flatten)            (None, 1296)              0         \n",
            "_________________________________________________________________\n",
            "dense (Dense)                (None, 1)                 1297      \n",
            "=================================================================\n",
            "Total params: 3,921\n",
            "Trainable params: 3,921\n",
            "Non-trainable params: 0\n",
            "_________________________________________________________________\n"
          ],
          "name": "stdout"
        }
      ]
    },
    {
      "cell_type": "code",
      "metadata": {
        "id": "6Zu2fMiEzex3",
        "outputId": "33f8b2cf-53ac-4531-e266-c9b2118ff6da",
        "colab": {
          "base_uri": "https://localhost:8080/"
        }
      },
      "source": [
        "model.compile(optimizer='adam',loss=tf.keras.losses.MeanSquaredError())\n",
        "\n",
        "callbacks = tf.keras.callbacks.EarlyStopping(monitor='val_loss',patience = 20)\n",
        "\n",
        "history = model.fit(X_train, y_train, \n",
        "                    validation_data = (X_test, y_test), \n",
        "\n",
        "                    callbacks = callbacks, \n",
        "                    epochs=100)"
      ],
      "execution_count": 18,
      "outputs": [
        {
          "output_type": "stream",
          "text": [
            "Epoch 1/100\n",
            "871/871 [==============================] - 10s 4ms/step - loss: 0.1068 - val_loss: 0.1004\n",
            "Epoch 2/100\n",
            "871/871 [==============================] - 2s 3ms/step - loss: 0.1002 - val_loss: 0.1011\n",
            "Epoch 3/100\n",
            "871/871 [==============================] - 2s 3ms/step - loss: 0.0994 - val_loss: 0.1009\n",
            "Epoch 4/100\n",
            "871/871 [==============================] - 2s 3ms/step - loss: 0.0999 - val_loss: 0.0983\n",
            "Epoch 5/100\n",
            "871/871 [==============================] - 2s 3ms/step - loss: 0.0979 - val_loss: 0.0986\n",
            "Epoch 6/100\n",
            "871/871 [==============================] - 2s 3ms/step - loss: 0.0966 - val_loss: 0.0977\n",
            "Epoch 7/100\n",
            "871/871 [==============================] - 2s 3ms/step - loss: 0.0991 - val_loss: 0.1004\n",
            "Epoch 8/100\n",
            "871/871 [==============================] - 2s 3ms/step - loss: 0.0983 - val_loss: 0.1002\n",
            "Epoch 9/100\n",
            "871/871 [==============================] - 2s 3ms/step - loss: 0.0982 - val_loss: 0.1012\n",
            "Epoch 10/100\n",
            "871/871 [==============================] - 2s 3ms/step - loss: 0.0982 - val_loss: 0.0978\n",
            "Epoch 11/100\n",
            "871/871 [==============================] - 2s 3ms/step - loss: 0.0974 - val_loss: 0.0980\n",
            "Epoch 12/100\n",
            "871/871 [==============================] - 3s 3ms/step - loss: 0.0978 - val_loss: 0.0992\n",
            "Epoch 13/100\n",
            "871/871 [==============================] - 2s 3ms/step - loss: 0.0976 - val_loss: 0.0985\n",
            "Epoch 14/100\n",
            "871/871 [==============================] - 2s 3ms/step - loss: 0.0972 - val_loss: 0.0981\n",
            "Epoch 15/100\n",
            "871/871 [==============================] - 2s 3ms/step - loss: 0.0975 - val_loss: 0.0982\n",
            "Epoch 16/100\n",
            "871/871 [==============================] - 2s 3ms/step - loss: 0.0977 - val_loss: 0.0979\n",
            "Epoch 17/100\n",
            "871/871 [==============================] - 2s 3ms/step - loss: 0.0979 - val_loss: 0.0980\n",
            "Epoch 18/100\n",
            "871/871 [==============================] - 2s 3ms/step - loss: 0.0961 - val_loss: 0.0999\n",
            "Epoch 19/100\n",
            "871/871 [==============================] - 2s 3ms/step - loss: 0.0985 - val_loss: 0.0998\n",
            "Epoch 20/100\n",
            "871/871 [==============================] - 2s 3ms/step - loss: 0.0992 - val_loss: 0.0992\n",
            "Epoch 21/100\n",
            "871/871 [==============================] - 2s 3ms/step - loss: 0.0981 - val_loss: 0.0991\n",
            "Epoch 22/100\n",
            "871/871 [==============================] - 2s 3ms/step - loss: 0.0987 - val_loss: 0.0973\n",
            "Epoch 23/100\n",
            "871/871 [==============================] - 2s 3ms/step - loss: 0.0980 - val_loss: 0.0973\n",
            "Epoch 24/100\n",
            "871/871 [==============================] - 2s 3ms/step - loss: 0.0969 - val_loss: 0.0974\n",
            "Epoch 25/100\n",
            "871/871 [==============================] - 2s 3ms/step - loss: 0.0971 - val_loss: 0.0984\n",
            "Epoch 26/100\n",
            "871/871 [==============================] - 2s 3ms/step - loss: 0.0977 - val_loss: 0.0981\n",
            "Epoch 27/100\n",
            "871/871 [==============================] - 2s 3ms/step - loss: 0.0971 - val_loss: 0.1018\n",
            "Epoch 28/100\n",
            "871/871 [==============================] - 2s 3ms/step - loss: 0.0978 - val_loss: 0.0982\n",
            "Epoch 29/100\n",
            "871/871 [==============================] - 2s 3ms/step - loss: 0.0984 - val_loss: 0.0980\n",
            "Epoch 30/100\n",
            "871/871 [==============================] - 2s 3ms/step - loss: 0.0962 - val_loss: 0.0998\n",
            "Epoch 31/100\n",
            "871/871 [==============================] - 2s 3ms/step - loss: 0.0977 - val_loss: 0.0976\n",
            "Epoch 32/100\n",
            "871/871 [==============================] - 2s 3ms/step - loss: 0.0977 - val_loss: 0.0968\n",
            "Epoch 33/100\n",
            "871/871 [==============================] - 2s 3ms/step - loss: 0.0975 - val_loss: 0.0998\n",
            "Epoch 34/100\n",
            "871/871 [==============================] - 2s 3ms/step - loss: 0.0975 - val_loss: 0.0975\n",
            "Epoch 35/100\n",
            "871/871 [==============================] - 2s 3ms/step - loss: 0.0968 - val_loss: 0.0972\n",
            "Epoch 36/100\n",
            "871/871 [==============================] - 2s 3ms/step - loss: 0.0970 - val_loss: 0.1008\n",
            "Epoch 37/100\n",
            "871/871 [==============================] - 2s 3ms/step - loss: 0.0987 - val_loss: 0.0980\n",
            "Epoch 38/100\n",
            "871/871 [==============================] - 2s 3ms/step - loss: 0.0981 - val_loss: 0.0981\n",
            "Epoch 39/100\n",
            "871/871 [==============================] - 2s 3ms/step - loss: 0.0973 - val_loss: 0.0970\n",
            "Epoch 40/100\n",
            "871/871 [==============================] - 2s 3ms/step - loss: 0.0974 - val_loss: 0.0972\n",
            "Epoch 41/100\n",
            "871/871 [==============================] - 2s 3ms/step - loss: 0.0978 - val_loss: 0.0979\n",
            "Epoch 42/100\n",
            "871/871 [==============================] - 2s 3ms/step - loss: 0.0975 - val_loss: 0.0990\n",
            "Epoch 43/100\n",
            "871/871 [==============================] - 2s 3ms/step - loss: 0.0963 - val_loss: 0.0976\n",
            "Epoch 44/100\n",
            "871/871 [==============================] - 2s 3ms/step - loss: 0.0970 - val_loss: 0.0969\n",
            "Epoch 45/100\n",
            "871/871 [==============================] - 2s 3ms/step - loss: 0.0972 - val_loss: 0.0972\n",
            "Epoch 46/100\n",
            "871/871 [==============================] - 2s 3ms/step - loss: 0.0977 - val_loss: 0.0973\n",
            "Epoch 47/100\n",
            "871/871 [==============================] - 2s 3ms/step - loss: 0.0981 - val_loss: 0.0974\n",
            "Epoch 48/100\n",
            "871/871 [==============================] - 2s 3ms/step - loss: 0.0979 - val_loss: 0.0978\n",
            "Epoch 49/100\n",
            "871/871 [==============================] - 2s 3ms/step - loss: 0.0967 - val_loss: 0.0978\n",
            "Epoch 50/100\n",
            "871/871 [==============================] - 2s 3ms/step - loss: 0.0961 - val_loss: 0.1009\n",
            "Epoch 51/100\n",
            "871/871 [==============================] - 2s 3ms/step - loss: 0.0968 - val_loss: 0.0970\n",
            "Epoch 52/100\n",
            "871/871 [==============================] - 2s 3ms/step - loss: 0.0951 - val_loss: 0.0971\n"
          ],
          "name": "stdout"
        }
      ]
    },
    {
      "cell_type": "code",
      "metadata": {
        "id": "C4hD-eAl05C8",
        "outputId": "bbdcfbc0-a64a-4445-9ae6-a700f23cdd04",
        "colab": {
          "base_uri": "https://localhost:8080/",
          "height": 295
        }
      },
      "source": [
        "plt.plot(history.history['loss'])\n",
        "plt.plot(history.history['val_loss'])\n",
        "plt.title('model loss')\n",
        "plt.ylabel('loss')\n",
        "plt.xlabel('epoch')\n",
        "plt.legend(['train', 'val'], loc='upper left')\n",
        "plt.show()"
      ],
      "execution_count": 19,
      "outputs": [
        {
          "output_type": "display_data",
          "data": {
            "image/png": "[encoded data removed]",
            "text/plain": [
              "<Figure size 432x288 with 1 Axes>"
            ]
          },
          "metadata": {
            "tags": [],
            "needs_background": "light"
          }
        }
      ]
    },
    {
      "cell_type": "code",
      "metadata": {
        "id": "TymgCc_QGm5x",
        "outputId": "b8199fdd-3d0f-4c55-8aa8-dec18fdc2701",
        "colab": {
          "base_uri": "https://localhost:8080/"
        }
      },
      "source": [
        "samp = 5\n",
        "\n",
        "model.predict(X_test[samp:samp+5])"
      ],
      "execution_count": 20,
      "outputs": [
        {
          "output_type": "execute_result",
          "data": {
            "text/plain": [
              "array([[0.48380038],\n",
              "       [0.4570543 ],\n",
              "       [0.57219404],\n",
              "       [0.65178823],\n",
              "       [0.61855835]], dtype=float32)"
            ]
          },
          "metadata": {
            "tags": []
          },
          "execution_count": 20
        }
      ]
    },
    {
      "cell_type": "code",
      "metadata": {
        "id": "StESLyv4JOp2",
        "outputId": "fa9611eb-f871-401f-d404-e24cc46ad983",
        "colab": {
          "base_uri": "https://localhost:8080/"
        }
      },
      "source": [
        "y_test[samp:samp+5]"
      ],
      "execution_count": 21,
      "outputs": [
        {
          "output_type": "execute_result",
          "data": {
            "text/plain": [
              "array([0.49, 0.17, 1.  , 0.88, 0.11])"
            ]
          },
          "metadata": {
            "tags": []
          },
          "execution_count": 21
        }
      ]
    },
    {
      "cell_type": "code",
      "metadata": {
        "id": "haCzxW5BJRML"
      },
      "source": [
        ""
      ],
      "execution_count": 21,
      "outputs": []
    }
  ]
}